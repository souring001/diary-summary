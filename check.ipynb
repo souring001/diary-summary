{
 "cells": [
  {
   "cell_type": "code",
   "execution_count": 1,
   "metadata": {},
   "outputs": [],
   "source": [
    "from PIL import Image\n",
    "import numpy as np\n",
    "import wordcloud, codecs\n",
    "import MeCab"
   ]
  },
  {
   "cell_type": "code",
   "execution_count": 5,
   "metadata": {},
   "outputs": [
    {
     "data": {
      "text/plain": [
       "<wordcloud.wordcloud.WordCloud at 0x11936fc50>"
      ]
     },
     "execution_count": 5,
     "metadata": {},
     "output_type": "execute_result"
    }
   ],
   "source": [
    "file = codecs.open('diary-202004.txt','r', 'utf-8', 'ignore')\n",
    "text = file.read()\n",
    "\n",
    "m = MeCab.Tagger('')\n",
    "text = text.replace('\\r','')\n",
    "parsed = m.parse(text)\n",
    "\n",
    "#助詞、助動詞を除いて単語結合\n",
    "splitted = ' '.join([x.split('\\t')[0] for x in parsed.splitlines()[:-1] if x.split('\\t')[1].split(',')[0] not in ['助詞', '助動詞']])\n",
    "\n",
    "wordc = wordcloud.WordCloud(\n",
    "        font_path='RiiTN_R.otf',\n",
    "        background_color='white',\n",
    "        contour_color='steelblue',\n",
    "        width=800,\n",
    "        height=600,\n",
    "        contour_width=2).generate(splitted)\n",
    "wordc.to_file('summary-202004.png')"
   ]
  }
 ],
 "metadata": {
  "kernelspec": {
   "display_name": "Python 3",
   "language": "python",
   "name": "python3"
  },
  "language_info": {
   "codemirror_mode": {
    "name": "ipython",
    "version": 3
   },
   "file_extension": ".py",
   "mimetype": "text/x-python",
   "name": "python",
   "nbconvert_exporter": "python",
   "pygments_lexer": "ipython3",
   "version": "3.7.7"
  }
 },
 "nbformat": 4,
 "nbformat_minor": 4
}
